{
  "nbformat": 4,
  "nbformat_minor": 0,
  "metadata": {
    "colab": {
      "name": "2004ssnen.ipynb",
      "provenance": [],
      "collapsed_sections": [],
      "authorship_tag": "ABX9TyMo7/UVrVw8yQp2r/NoX+c6"
    },
    "kernelspec": {
      "name": "python3",
      "display_name": "Python 3"
    },
    "language_info": {
      "name": "python"
    }
  },
  "cells": [
    {
      "cell_type": "code",
      "metadata": {
        "colab": {
          "base_uri": "https://localhost:8080/"
        },
        "id": "qL0x6WVT0BP8",
        "outputId": "e9169eb4-b695-4c38-f03d-8f9831d6a805"
      },
      "source": [
        "from google.colab import drive\n",
        "drive.mount('/content/drive')\n",
        "\n",
        "import numpy as np\n",
        "import pandas as pd\n",
        "import matplotlib.pyplot as plt\n",
        "import seaborn as sns"
      ],
      "execution_count": 13,
      "outputs": [
        {
          "output_type": "stream",
          "text": [
            "Drive already mounted at /content/drive; to attempt to forcibly remount, call drive.mount(\"/content/drive\", force_remount=True).\n"
          ],
          "name": "stdout"
        }
      ]
    },
    {
      "cell_type": "code",
      "metadata": {
        "colab": {
          "base_uri": "https://localhost:8080/",
          "height": 206
        },
        "id": "qdpWXJeG0GC4",
        "outputId": "3ba53c81-0224-4b2b-ba8e-36f22b7e8da1"
      },
      "source": [
        "all=pd.read_csv(\"drive/My Drive/Colab Notebooks/2004ssnen.csv\")\n",
        "vecs=all.drop(['団体コード','都道府県名'],axis=1)\n",
        "vecs.sample(5)"
      ],
      "execution_count": 14,
      "outputs": [
        {
          "output_type": "execute_result",
          "data": {
            "text/html": [
              "<div>\n",
              "<style scoped>\n",
              "    .dataframe tbody tr th:only-of-type {\n",
              "        vertical-align: middle;\n",
              "    }\n",
              "\n",
              "    .dataframe tbody tr th {\n",
              "        vertical-align: top;\n",
              "    }\n",
              "\n",
              "    .dataframe thead th {\n",
              "        text-align: right;\n",
              "    }\n",
              "</style>\n",
              "<table border=\"1\" class=\"dataframe\">\n",
              "  <thead>\n",
              "    <tr style=\"text-align: right;\">\n",
              "      <th></th>\n",
              "      <th>市区町村名</th>\n",
              "      <th>0～4歳</th>\n",
              "      <th>5～9</th>\n",
              "      <th>10～14</th>\n",
              "      <th>15～19</th>\n",
              "      <th>20～24</th>\n",
              "      <th>25～29</th>\n",
              "      <th>30～34</th>\n",
              "      <th>35～39</th>\n",
              "      <th>40～44</th>\n",
              "      <th>45～49</th>\n",
              "      <th>50～54</th>\n",
              "      <th>55～59</th>\n",
              "      <th>60～64</th>\n",
              "      <th>65～69</th>\n",
              "      <th>70～74</th>\n",
              "      <th>75～79</th>\n",
              "      <th>80～84</th>\n",
              "      <th>85～89</th>\n",
              "      <th>90～94</th>\n",
              "      <th>95～99</th>\n",
              "      <th>100歳以上</th>\n",
              "    </tr>\n",
              "  </thead>\n",
              "  <tbody>\n",
              "    <tr>\n",
              "      <th>1332</th>\n",
              "      <td>栗東市</td>\n",
              "      <td>3880</td>\n",
              "      <td>3731</td>\n",
              "      <td>4062</td>\n",
              "      <td>4104</td>\n",
              "      <td>3689</td>\n",
              "      <td>4229</td>\n",
              "      <td>4695</td>\n",
              "      <td>4898</td>\n",
              "      <td>5886</td>\n",
              "      <td>6468</td>\n",
              "      <td>4806</td>\n",
              "      <td>3519</td>\n",
              "      <td>2982</td>\n",
              "      <td>3325</td>\n",
              "      <td>3706</td>\n",
              "      <td>2754</td>\n",
              "      <td>1719</td>\n",
              "      <td>1017</td>\n",
              "      <td>479</td>\n",
              "      <td>126</td>\n",
              "      <td>16</td>\n",
              "    </tr>\n",
              "    <tr>\n",
              "      <th>1818</th>\n",
              "      <td>大洲市</td>\n",
              "      <td>1381</td>\n",
              "      <td>1745</td>\n",
              "      <td>1766</td>\n",
              "      <td>1946</td>\n",
              "      <td>1614</td>\n",
              "      <td>1459</td>\n",
              "      <td>1762</td>\n",
              "      <td>2201</td>\n",
              "      <td>2502</td>\n",
              "      <td>2739</td>\n",
              "      <td>2445</td>\n",
              "      <td>2737</td>\n",
              "      <td>3203</td>\n",
              "      <td>3601</td>\n",
              "      <td>3343</td>\n",
              "      <td>2604</td>\n",
              "      <td>2320</td>\n",
              "      <td>1957</td>\n",
              "      <td>1032</td>\n",
              "      <td>302</td>\n",
              "      <td>47</td>\n",
              "    </tr>\n",
              "    <tr>\n",
              "      <th>1549</th>\n",
              "      <td>磯城郡三宅町</td>\n",
              "      <td>193</td>\n",
              "      <td>227</td>\n",
              "      <td>244</td>\n",
              "      <td>272</td>\n",
              "      <td>302</td>\n",
              "      <td>323</td>\n",
              "      <td>310</td>\n",
              "      <td>315</td>\n",
              "      <td>385</td>\n",
              "      <td>490</td>\n",
              "      <td>451</td>\n",
              "      <td>455</td>\n",
              "      <td>426</td>\n",
              "      <td>537</td>\n",
              "      <td>570</td>\n",
              "      <td>588</td>\n",
              "      <td>389</td>\n",
              "      <td>227</td>\n",
              "      <td>102</td>\n",
              "      <td>30</td>\n",
              "      <td>6</td>\n",
              "    </tr>\n",
              "    <tr>\n",
              "      <th>846</th>\n",
              "      <td>茅ヶ崎市</td>\n",
              "      <td>9438</td>\n",
              "      <td>11043</td>\n",
              "      <td>11380</td>\n",
              "      <td>11730</td>\n",
              "      <td>11195</td>\n",
              "      <td>10285</td>\n",
              "      <td>11820</td>\n",
              "      <td>15147</td>\n",
              "      <td>18431</td>\n",
              "      <td>21583</td>\n",
              "      <td>19135</td>\n",
              "      <td>15441</td>\n",
              "      <td>13027</td>\n",
              "      <td>14572</td>\n",
              "      <td>16206</td>\n",
              "      <td>14032</td>\n",
              "      <td>10027</td>\n",
              "      <td>5965</td>\n",
              "      <td>2589</td>\n",
              "      <td>739</td>\n",
              "      <td>99</td>\n",
              "    </tr>\n",
              "    <tr>\n",
              "      <th>1108</th>\n",
              "      <td>上水内郡小川村*</td>\n",
              "      <td>49</td>\n",
              "      <td>57</td>\n",
              "      <td>87</td>\n",
              "      <td>93</td>\n",
              "      <td>70</td>\n",
              "      <td>50</td>\n",
              "      <td>60</td>\n",
              "      <td>111</td>\n",
              "      <td>113</td>\n",
              "      <td>153</td>\n",
              "      <td>128</td>\n",
              "      <td>139</td>\n",
              "      <td>187</td>\n",
              "      <td>205</td>\n",
              "      <td>212</td>\n",
              "      <td>211</td>\n",
              "      <td>170</td>\n",
              "      <td>181</td>\n",
              "      <td>103</td>\n",
              "      <td>39</td>\n",
              "      <td>5</td>\n",
              "    </tr>\n",
              "  </tbody>\n",
              "</table>\n",
              "</div>"
            ],
            "text/plain": [
              "         市区町村名  0～4歳    5～9  10～14  15～19  ...  80～84  85～89  90～94  95～99  100歳以上\n",
              "1332       栗東市  3880   3731   4062   4104  ...   1719   1017    479    126      16\n",
              "1818       大洲市  1381   1745   1766   1946  ...   2320   1957   1032    302      47\n",
              "1549    磯城郡三宅町   193    227    244    272  ...    389    227    102     30       6\n",
              "846       茅ヶ崎市  9438  11043  11380  11730  ...  10027   5965   2589    739      99\n",
              "1108  上水内郡小川村*    49     57     87     93  ...    170    181    103     39       5\n",
              "\n",
              "[5 rows x 22 columns]"
            ]
          },
          "metadata": {
            "tags": []
          },
          "execution_count": 14
        }
      ]
    },
    {
      "cell_type": "code",
      "metadata": {
        "id": "8Fl17Wq40Hy9"
      },
      "source": [
        "def cosine_similarity_matrix (vectors):\n",
        "    unit_vectors = vectors / np.linalg.norm(vectors, axis=1, keepdims=True)\n",
        "    return np.matmul(unit_vectors, unit_vectors.T)\n",
        "\n",
        "matrix = cosine_similarity_matrix(vecs.drop('市区町村名',axis=1).to_numpy())"
      ],
      "execution_count": 15,
      "outputs": []
    },
    {
      "cell_type": "code",
      "metadata": {
        "id": "qAwZYXsq0Nnr"
      },
      "source": [
        "df = pd.DataFrame(matrix, index=vecs['市区町村名'], columns=vecs['市区町村名'])"
      ],
      "execution_count": 16,
      "outputs": []
    },
    {
      "cell_type": "code",
      "metadata": {
        "colab": {
          "base_uri": "https://localhost:8080/"
        },
        "id": "wgcp5YVo0PFU",
        "outputId": "b2864cad-75b3-47df-b9b6-5a3c01f9a006"
      },
      "source": [
        "city='高知市'\n",
        "df[city].sort_values(ascending=False).drop(index=city).head(10)"
      ],
      "execution_count": 17,
      "outputs": [
        {
          "output_type": "execute_result",
          "data": {
            "text/plain": [
              "市区町村名\n",
              "長野市        0.999198\n",
              "新潟市西区      0.999128\n",
              "新潟市        0.999098\n",
              "富山市        0.999082\n",
              "徳島市        0.999039\n",
              "松阪市        0.998940\n",
              "上伊那郡箕輪町    0.998888\n",
              "山口市        0.998809\n",
              "焼津市        0.998807\n",
              "前橋市        0.998796\n",
              "Name: 高知市, dtype: float64"
            ]
          },
          "metadata": {
            "tags": []
          },
          "execution_count": 17
        }
      ]
    },
    {
      "cell_type": "code",
      "metadata": {
        "colab": {
          "base_uri": "https://localhost:8080/",
          "height": 112
        },
        "id": "hpDeCrWU0Q1G",
        "outputId": "1fa3cf3f-a9c3-493e-9a49-536325ec6b85"
      },
      "source": [
        "c=vecs[(vecs['市区町村名']==city) | (vecs['市区町村名']=='長野市')]\n",
        "v=c.drop('市区町村名',axis=1).to_numpy()\n",
        "c"
      ],
      "execution_count": 18,
      "outputs": [
        {
          "output_type": "execute_result",
          "data": {
            "text/html": [
              "<div>\n",
              "<style scoped>\n",
              "    .dataframe tbody tr th:only-of-type {\n",
              "        vertical-align: middle;\n",
              "    }\n",
              "\n",
              "    .dataframe tbody tr th {\n",
              "        vertical-align: top;\n",
              "    }\n",
              "\n",
              "    .dataframe thead th {\n",
              "        text-align: right;\n",
              "    }\n",
              "</style>\n",
              "<table border=\"1\" class=\"dataframe\">\n",
              "  <thead>\n",
              "    <tr style=\"text-align: right;\">\n",
              "      <th></th>\n",
              "      <th>市区町村名</th>\n",
              "      <th>0～4歳</th>\n",
              "      <th>5～9</th>\n",
              "      <th>10～14</th>\n",
              "      <th>15～19</th>\n",
              "      <th>20～24</th>\n",
              "      <th>25～29</th>\n",
              "      <th>30～34</th>\n",
              "      <th>35～39</th>\n",
              "      <th>40～44</th>\n",
              "      <th>45～49</th>\n",
              "      <th>50～54</th>\n",
              "      <th>55～59</th>\n",
              "      <th>60～64</th>\n",
              "      <th>65～69</th>\n",
              "      <th>70～74</th>\n",
              "      <th>75～79</th>\n",
              "      <th>80～84</th>\n",
              "      <th>85～89</th>\n",
              "      <th>90～94</th>\n",
              "      <th>95～99</th>\n",
              "      <th>100歳以上</th>\n",
              "    </tr>\n",
              "  </thead>\n",
              "  <tbody>\n",
              "    <tr>\n",
              "      <th>1021</th>\n",
              "      <td>長野市</td>\n",
              "      <td>13898</td>\n",
              "      <td>15745</td>\n",
              "      <td>17004</td>\n",
              "      <td>18352</td>\n",
              "      <td>16979</td>\n",
              "      <td>16714</td>\n",
              "      <td>18513</td>\n",
              "      <td>21222</td>\n",
              "      <td>25574</td>\n",
              "      <td>29448</td>\n",
              "      <td>25637</td>\n",
              "      <td>23367</td>\n",
              "      <td>22934</td>\n",
              "      <td>24749</td>\n",
              "      <td>25971</td>\n",
              "      <td>21887</td>\n",
              "      <td>16460</td>\n",
              "      <td>12290</td>\n",
              "      <td>6877</td>\n",
              "      <td>1978</td>\n",
              "      <td>285</td>\n",
              "    </tr>\n",
              "    <tr>\n",
              "      <th>1839</th>\n",
              "      <td>高知市</td>\n",
              "      <td>12240</td>\n",
              "      <td>13423</td>\n",
              "      <td>14286</td>\n",
              "      <td>15484</td>\n",
              "      <td>14811</td>\n",
              "      <td>14271</td>\n",
              "      <td>16066</td>\n",
              "      <td>18805</td>\n",
              "      <td>23192</td>\n",
              "      <td>26291</td>\n",
              "      <td>21377</td>\n",
              "      <td>20842</td>\n",
              "      <td>20130</td>\n",
              "      <td>22614</td>\n",
              "      <td>24522</td>\n",
              "      <td>18517</td>\n",
              "      <td>13258</td>\n",
              "      <td>10148</td>\n",
              "      <td>5423</td>\n",
              "      <td>1649</td>\n",
              "      <td>226</td>\n",
              "    </tr>\n",
              "  </tbody>\n",
              "</table>\n",
              "</div>"
            ],
            "text/plain": [
              "     市区町村名   0～4歳    5～9  10～14  15～19  ...  80～84  85～89  90～94  95～99  100歳以上\n",
              "1021   長野市  13898  15745  17004  18352  ...  16460  12290   6877   1978     285\n",
              "1839   高知市  12240  13423  14286  15484  ...  13258  10148   5423   1649     226\n",
              "\n",
              "[2 rows x 22 columns]"
            ]
          },
          "metadata": {
            "tags": []
          },
          "execution_count": 18
        }
      ]
    },
    {
      "cell_type": "code",
      "metadata": {
        "colab": {
          "base_uri": "https://localhost:8080/",
          "height": 282
        },
        "id": "qxC7el2Z0R6L",
        "outputId": "49e736ec-b348-43ff-e456-4e1d0e7869e0"
      },
      "source": [
        "pd.DataFrame(v/np.linalg.norm(v, axis=1,keepdims=True)).plot( kind='bar', legend=False, figsize=(12,4))"
      ],
      "execution_count": 19,
      "outputs": [
        {
          "output_type": "execute_result",
          "data": {
            "text/plain": [
              "<matplotlib.axes._subplots.AxesSubplot at 0x7f72154cc4d0>"
            ]
          },
          "metadata": {
            "tags": []
          },
          "execution_count": 19
        },
        {
          "output_type": "display_data",
          "data": {
            "image/png": "[encoded data removed]",
            "text/plain": [
              "<Figure size 864x288 with 1 Axes>"
            ]
          },
          "metadata": {
            "tags": [],
            "needs_background": "light"
          }
        }
      ]
    },
    {
      "cell_type": "code",
      "metadata": {
        "colab": {
          "base_uri": "https://localhost:8080/"
        },
        "id": "duDWY9n-0TDZ",
        "outputId": "b5f21c46-2b0d-4a86-afb6-3de2f55d2b23"
      },
      "source": [
        "df[city].sort_values(ascending=True).drop(index=city).filter(regex='市').head(10)"
      ],
      "execution_count": 20,
      "outputs": [
        {
          "output_type": "execute_result",
          "data": {
            "text/plain": [
              "市区町村名\n",
              "大阪市浪速区    0.852182\n",
              "夕張市       0.892318\n",
              "大阪市中央区    0.892388\n",
              "歌志内市*     0.892572\n",
              "名古屋市中区    0.897089\n",
              "大阪市西区     0.899588\n",
              "室戸市       0.910233\n",
              "珠洲市       0.913809\n",
              "福岡市博多区    0.915086\n",
              "熱海市       0.919164\n",
              "Name: 高知市, dtype: float64"
            ]
          },
          "metadata": {
            "tags": []
          },
          "execution_count": 20
        }
      ]
    },
    {
      "cell_type": "code",
      "metadata": {
        "colab": {
          "base_uri": "https://localhost:8080/",
          "height": 112
        },
        "id": "NpWiCwMX0VgA",
        "outputId": "f7b6b624-fc5d-49f6-a038-49552b726171"
      },
      "source": [
        "c=vecs[(vecs['市区町村名']==city) | (vecs['市区町村名']=='福岡市博多区')]\n",
        "v=c.drop('市区町村名',axis=1).to_numpy()\n",
        "c"
      ],
      "execution_count": 21,
      "outputs": [
        {
          "output_type": "execute_result",
          "data": {
            "text/html": [
              "<div>\n",
              "<style scoped>\n",
              "    .dataframe tbody tr th:only-of-type {\n",
              "        vertical-align: middle;\n",
              "    }\n",
              "\n",
              "    .dataframe tbody tr th {\n",
              "        vertical-align: top;\n",
              "    }\n",
              "\n",
              "    .dataframe thead th {\n",
              "        text-align: right;\n",
              "    }\n",
              "</style>\n",
              "<table border=\"1\" class=\"dataframe\">\n",
              "  <thead>\n",
              "    <tr style=\"text-align: right;\">\n",
              "      <th></th>\n",
              "      <th>市区町村名</th>\n",
              "      <th>0～4歳</th>\n",
              "      <th>5～9</th>\n",
              "      <th>10～14</th>\n",
              "      <th>15～19</th>\n",
              "      <th>20～24</th>\n",
              "      <th>25～29</th>\n",
              "      <th>30～34</th>\n",
              "      <th>35～39</th>\n",
              "      <th>40～44</th>\n",
              "      <th>45～49</th>\n",
              "      <th>50～54</th>\n",
              "      <th>55～59</th>\n",
              "      <th>60～64</th>\n",
              "      <th>65～69</th>\n",
              "      <th>70～74</th>\n",
              "      <th>75～79</th>\n",
              "      <th>80～84</th>\n",
              "      <th>85～89</th>\n",
              "      <th>90～94</th>\n",
              "      <th>95～99</th>\n",
              "      <th>100歳以上</th>\n",
              "    </tr>\n",
              "  </thead>\n",
              "  <tbody>\n",
              "    <tr>\n",
              "      <th>1839</th>\n",
              "      <td>高知市</td>\n",
              "      <td>12240</td>\n",
              "      <td>13423</td>\n",
              "      <td>14286</td>\n",
              "      <td>15484</td>\n",
              "      <td>14811</td>\n",
              "      <td>14271</td>\n",
              "      <td>16066</td>\n",
              "      <td>18805</td>\n",
              "      <td>23192</td>\n",
              "      <td>26291</td>\n",
              "      <td>21377</td>\n",
              "      <td>20842</td>\n",
              "      <td>20130</td>\n",
              "      <td>22614</td>\n",
              "      <td>24522</td>\n",
              "      <td>18517</td>\n",
              "      <td>13258</td>\n",
              "      <td>10148</td>\n",
              "      <td>5423</td>\n",
              "      <td>1649</td>\n",
              "      <td>226</td>\n",
              "    </tr>\n",
              "    <tr>\n",
              "      <th>1889</th>\n",
              "      <td>福岡市博多区</td>\n",
              "      <td>10025</td>\n",
              "      <td>7994</td>\n",
              "      <td>7370</td>\n",
              "      <td>8668</td>\n",
              "      <td>19222</td>\n",
              "      <td>24411</td>\n",
              "      <td>21634</td>\n",
              "      <td>19263</td>\n",
              "      <td>18169</td>\n",
              "      <td>17872</td>\n",
              "      <td>14523</td>\n",
              "      <td>11890</td>\n",
              "      <td>10774</td>\n",
              "      <td>11432</td>\n",
              "      <td>10862</td>\n",
              "      <td>7877</td>\n",
              "      <td>5756</td>\n",
              "      <td>3823</td>\n",
              "      <td>1867</td>\n",
              "      <td>542</td>\n",
              "      <td>88</td>\n",
              "    </tr>\n",
              "  </tbody>\n",
              "</table>\n",
              "</div>"
            ],
            "text/plain": [
              "       市区町村名   0～4歳    5～9  10～14  15～19  ...  80～84  85～89  90～94  95～99  100歳以上\n",
              "1839     高知市  12240  13423  14286  15484  ...  13258  10148   5423   1649     226\n",
              "1889  福岡市博多区  10025   7994   7370   8668  ...   5756   3823   1867    542      88\n",
              "\n",
              "[2 rows x 22 columns]"
            ]
          },
          "metadata": {
            "tags": []
          },
          "execution_count": 21
        }
      ]
    },
    {
      "cell_type": "code",
      "metadata": {
        "colab": {
          "base_uri": "https://localhost:8080/",
          "height": 280
        },
        "id": "tldDaP6C0Xwk",
        "outputId": "9d67c482-9ea6-41ac-8638-50927d5e1e97"
      },
      "source": [
        "pd.DataFrame(v/np.linalg.norm(v, axis=1,keepdims=True)).plot( kind='bar', legend=False, figsize=(12,4))"
      ],
      "execution_count": 22,
      "outputs": [
        {
          "output_type": "execute_result",
          "data": {
            "text/plain": [
              "<matplotlib.axes._subplots.AxesSubplot at 0x7f721539db90>"
            ]
          },
          "metadata": {
            "tags": []
          },
          "execution_count": 22
        },
        {
          "output_type": "display_data",
          "data": {
            "image/png": "[encoded data removed]",
            "text/plain": [
              "<Figure size 864x288 with 1 Axes>"
            ]
          },
          "metadata": {
            "tags": [],
            "needs_background": "light"
          }
        }
      ]
    },
    {
      "cell_type": "code",
      "metadata": {
        "id": "G-E1NbBw0Y7z"
      },
      "source": [
        ""
      ],
      "execution_count": 22,
      "outputs": []
    }
  ]
}